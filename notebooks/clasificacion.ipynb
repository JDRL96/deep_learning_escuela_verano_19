{
 "cells": [
  {
   "cell_type": "markdown",
   "metadata": {},
   "source": [
    "# Redes neuronales para clasificación de secuencias"
   ]
  },
  {
   "cell_type": "markdown",
   "metadata": {},
   "source": [
    "Ahora veremos cómo podemos, a partir de una secuencia de datos, inferir a qué clase pertenecen. Para esta tarea vamos a usar nuevamente un RNN del tipo LSTM, pero esta vez con una sola salida.\n",
    "\n",
    "La tarea que vamos a tener es la siguiente: a partir de menus que proporcionan los restaurantes, clasificar estos restaurantes en una categoría de precios. Vamos a tener cuatro categorías de prcios, donde 1 son los restaurantes más baratos, mientras que 4 son los más caros. "
   ]
  },
  {
   "cell_type": "markdown",
   "metadata": {},
   "source": [
    "## Cargar las bibliotecas necesarias"
   ]
  },
  {
   "cell_type": "code",
   "execution_count": 111,
   "metadata": {},
   "outputs": [],
   "source": [
    "import json\n",
    "\n",
    "from tensorflow.keras.preprocessing.sequence import pad_sequences\n",
    "from tensorflow.keras.models import Model\n",
    "from tensorflow.keras.utils import to_categorical\n",
    "from tensorflow.keras.layers import Dense, Dropout, LSTM, Embedding, Activation, SpatialDropout1D\n",
    "from tensorflow.keras import Input, Sequential\n",
    "from tensorflow.keras.callbacks import EarlyStopping\n",
    "from tensorflow.keras import optimizers\n",
    "\n",
    "import numpy as np\n",
    "import pandas as pd\n",
    "import matplotlib.pyplot as plt"
   ]
  },
  {
   "cell_type": "markdown",
   "metadata": {},
   "source": [
    "## Preparar los datos"
   ]
  },
  {
   "cell_type": "markdown",
   "metadata": {},
   "source": [
    "Como hemos visto en el ejercicio pasado, debemos cargar los datos. Además será necesario ver cómo su organización "
   ]
  },
  {
   "cell_type": "code",
   "execution_count": 113,
   "metadata": {},
   "outputs": [
    {
     "name": "stdout",
     "output_type": "stream",
     "text": [
      "{'rating': '$$', 'name': 'Bin38', 'type': 'american (new)', 'location': 'sf', 'menu': ['bin frittata artisan ham swiss cheese potatoes mixed greens', 'sweet corn fritters wildflower honey whipped butter', 'strawberry eclairs white chocolate mousse hazelnuts', 'grilled cheese on whole wheat fontina smoked mozzarella oven roasted tomatoes arugula basil mayo', 'beef brisket panini fontina oven roasted tomatoes arugula horseradish sauce items marked with served before pm', 'hot beef brisket sandwich creamy horseradish sauce slaw french fries', 'roasted wild mushroom panini fromage blanc gypsy peppers creamy smoked pepper dip', 'house made chicken sausage grilled summer squash basil pesto', 'bacon wrapped sea scallops summer melon herb salad balsamic', 'american artisan cheeses small house made crackers fruit and condiments items marked with served before pm', 'warm marinated olives items marked with served before pm', 'wild mushroom gypsy pepper panini fromage blanc creamy smoked pepper dip items marked with served before pm', 'grilled summer squash goat cheese basil pesto breadcrumbs', 'lemon pound cake organic blackberries', 'fennel rubbed roasted pork swiss panini whole grain mustard pickles', 'house made duck sausage potato fig salad whole grain mustard', 'country pork spareribs peach jalape o barbeque sauce', 'heirloom tomatoes cucumbers goat cheese arugula red wine vinaigrette', 'bin mixed nuts items marked with served before pm', 'little green salad nectarines fresh ricotta sunflower seeds sauvignon blanc vinaigrette items marked with served before pm', 'american artisan cheeses large house made crackers fruit and condiments items marked with served before pm', 'old fashioned chocolate pudding whipped cream shortbread cookies', 'washugyu kobe flank steak roasted gypsy peppers onions herb butter', 'steamed mussels early girl tomato sauce basil chili oil grilled croutons', 'lamb meatballs eggplant salad green tomato sauce', 'french fries cucumber yogurt dip herb mayonnaise heinz items marked with served before pm', 'grilled chicken salad avocado corn cherry tomato organic little gem lettuce buttermilk dressing', 'grilled eggplant cherry tomatoes fennel meyer lemon oil grilled bread', 'avocado corn cherry tomato salad organic little gem lettuce buttermilk dressing', 'baked feta feta strawberry onion jam crostini items marked with served before pm', 'washington mussels early girl tomato sauce basil chili oil grilled croutons', 'grilled albacore tuna fresh shell beans marinated green beans spicy cayenne pepper sauce', 'french fries cucumber yogurt dip spicy avocado puree heinz']}\n",
      "4860\n",
      "607\n"
     ]
    }
   ],
   "source": [
    "train_set = list()\n",
    "dev_set = list()\n",
    "\n",
    "with open(\"Data/trainset.json\") as F:\n",
    "    for line in F:\n",
    "        train_set.append(json.loads(line))\n",
    "with open(\"Data/devset.json\") as F:\n",
    "    for line in F:\n",
    "        dev_set.append(json.loads(line))\n",
    "\n",
    "print(train_set[1])\n",
    "print(len(train_set))\n",
    "print(len(dev_set))"
   ]
  },
  {
   "cell_type": "code",
   "execution_count": 114,
   "metadata": {},
   "outputs": [
    {
     "name": "stdout",
     "output_type": "stream",
     "text": [
      "['squid', 'tofu', 'lunch', 'cooked', 'squid', 'tofu', 'vegetables', 'with', 'seasoned', 'soy', 'sauce', '.', 'edamame', 'broiled', 'green', 'soybeans', '.', 'hotate', 'scallop', '.', 'oyako', 'don', 'dinner', 'chicken', 'vegetables', 'and', 'egg', 'cooked', 'with', 'sweet']\n",
      "1\n",
      "44090\n"
     ]
    }
   ],
   "source": [
    "train_ratings = list()\n",
    "train_menus = list()\n",
    "\n",
    "dev_ratings = list()\n",
    "dev_menus = list()\n",
    "\n",
    "dictionary = list()\n",
    "rating_labels = list()\n",
    "\n",
    "for restaurant in train_set:\n",
    "    menu = \" . \".join(restaurant[\"menu\"]).split()\n",
    "    train_menus.append(menu)\n",
    "    train_ratings.append(len(restaurant[\"rating\"])-1)\n",
    "    dictionary += menu\n",
    "\n",
    "for restaurant in dev_set:\n",
    "    menu = \" . \".join(restaurant[\"menu\"]).split()\n",
    "    dev_menus.append(menu)\n",
    "    dev_ratings.append(len(restaurant[\"rating\"])-1)\n",
    "\n",
    "dictionary = list(set(dictionary))\n",
    "print(train_menus[0][:30])\n",
    "print(train_ratings[0])\n",
    "print(len(dictionary))\n"
   ]
  },
  {
   "cell_type": "markdown",
   "metadata": {},
   "source": [
    "Ahora nuevamente convertiremos todas las palabras en enteros y los rankings a varables categóricas"
   ]
  },
  {
   "cell_type": "code",
   "execution_count": 115,
   "metadata": {},
   "outputs": [
    {
     "name": "stdout",
     "output_type": "stream",
     "text": [
      "[39643, 11045, 39143, 3667, 13498, 14402, 6290, 3172, 25949, 41482, 19469, 35181, 27017, 26415, 3732, 16829, 15711, 41482, 4927, 16116, 42251, 21760, 27702, 3162, 41482, 10698, 14402, 33541, 20159, 8604, 41010, 10676, 39612, 16557, 41972, 5361, 6211, 21217, 26980, 41482, 12204, 19211, 9223, 41010, 16557, 41972, 5361, 6211, 7607, 42801, 28263, 8897, 13376, 27654, 15140, 25538, 41482, 27112, 12204, 19211, 20554, 42810, 7607, 42801, 33079, 8304, 27800, 41482, 41972, 14184, 6862, 9223, 29849, 23071, 39175, 6910, 42810, 10676, 17266, 10216, 41482, 9045, 25128, 28232, 29197, 10698, 20595, 1907, 21217, 15872, 41482, 22640, 38693, 41671, 18656, 20595, 11656, 33676, 26218, 27267, 41482, 32244, 39143, 8144, 2434, 9045, 25128, 33525, 25678, 17578, 1132, 28263, 8897, 13376, 27654, 15140, 25538, 41482, 42511, 43287, 34584, 28263, 8897, 13376, 27654, 15140, 25538, 41482, 14184, 6862, 39175, 17266, 9223, 29849, 23071, 42810, 10676, 17266, 10216, 28263, 8897, 13376, 27654, 15140, 25538, 41482, 10698, 20595, 1907, 23998, 14402, 21217, 15872, 1867, 41482, 40028, 25654, 29427, 37529, 24395, 41482, 11894, 6861, 41972, 15218, 13498, 9223, 20159, 22945, 22598, 5707, 41482, 9045, 25128, 5119, 29197, 37403, 33005, 26218, 20159, 22945, 22598, 41482, 249, 15218, 26506, 1982, 28228, 22462, 28395, 42801, 41482, 14824, 5361, 884, 23998, 14402, 6211, 21992, 23364, 25119, 41482, 39643, 3172, 39692, 28263, 8897, 13376, 27654, 15140, 25538, 41482, 19861, 17103, 26218, 27400, 12401, 8192, 33750, 1155, 41153, 23071, 25119, 28263, 8897, 13376, 27654, 15140, 25538, 41482, 32244, 39143, 8144, 37020, 9045, 25128, 33525, 25678, 17578, 1132, 28263, 8897, 13376, 27654, 15140, 25538, 41482, 9102, 20496, 21760, 15412, 16829, 31478, 18858, 30419, 41482, 9906, 33029, 5350, 20038, 41972, 39175, 6910, 36951, 33676, 15711, 41482, 19350, 25427, 195, 26267, 31526, 42801, 21217, 41101, 21206, 10698, 24247, 41482, 39102, 29896, 23626, 26218, 17103, 31526, 42801, 41482, 8304, 27800, 3889, 22226, 10216, 33676, 21171, 44029, 28263, 8897, 13376, 27654, 15140, 25538, 41482, 10698, 28232, 26218, 2785, 35181, 38819, 31526, 37529, 19861, 14968, 20974, 31205, 26397, 41482, 10698, 23626, 38819, 5361, 11894, 10015, 40028, 21206, 10698, 26683, 41482, 2785, 35181, 38819, 31526, 26218, 37529, 19861, 14968, 20974, 31205, 26397, 41482, 36627, 803, 803, 4927, 41517, 27682, 932, 28263, 8897, 13376, 27654, 15140, 25538, 41482, 21538, 25427, 195, 26267, 31526, 42801, 21217, 41101, 21206, 10698, 24247, 41482, 10698, 37692, 39868, 12401, 39194, 7372, 43287, 17103, 7372, 24358, 714, 17266, 42801, 41482, 8304, 27800, 3889, 22226, 10216, 24358, 2785, 1649, 44029]\n",
      "[0. 1. 0. 0.]\n"
     ]
    }
   ],
   "source": [
    "word_to_index = {\"PAD\":0,\"OOV\":1, \"BOS\":2, \"EOS\":3}\n",
    "for word in dictionary:\n",
    "    word_to_index[word] = len(word_to_index)\n",
    "\n",
    "def sent_to_int(sent):\n",
    "    int_sent = list()\n",
    "    for word in sent:\n",
    "        if word in word_to_indx.keys():\n",
    "            int_sent.append(word_to_index[word])\n",
    "        else:\n",
    "            int_sent.append(word_to_index[\"OOV\"])\n",
    "    return int_sent\n",
    "\n",
    "train_X, dev_X, train_Y, dev_Y = list(), list(), list(), list()\n",
    "\n",
    "for lineX, lineY in zip(train_menus, train_ratings):\n",
    "    train_X.append(sent_to_int(lineX))\n",
    "    train_Y.append(to_categorical(lineY, num_classes=4))\n",
    "\n",
    "for lineX, lineY in zip(dev_menus, dev_ratings):\n",
    "    dev_X.append(sent_to_int(lineX))\n",
    "    dev_Y.append(to_categorical(lineY, num_classes=4))\n",
    "    \n",
    "train_Y = np.asarray(train_Y)\n",
    "dev_Y = np.asarray(dev_Y)\n",
    "\n",
    "print(train_X[1])\n",
    "print(train_Y[1])"
   ]
  },
  {
   "cell_type": "markdown",
   "metadata": {},
   "source": [
    "Limitaremos el tamaño de las entradas a 200 palabras, dada la gran variabilidad de los menus encontrados."
   ]
  },
  {
   "cell_type": "code",
   "execution_count": 116,
   "metadata": {},
   "outputs": [
    {
     "name": "stdout",
     "output_type": "stream",
     "text": [
      "[21217 15872 41482 22640 38693 41671 18656 20595 11656 33676 26218 27267\n",
      " 41482 32244 39143  8144  2434  9045 25128 33525 25678 17578  1132 28263\n",
      "  8897 13376 27654 15140 25538 41482 42511 43287 34584 28263  8897 13376\n",
      " 27654 15140 25538 41482 14184  6862 39175 17266  9223 29849 23071 42810\n",
      " 10676 17266 10216 28263  8897 13376 27654 15140 25538 41482 10698 20595\n",
      "  1907 23998 14402 21217 15872  1867 41482 40028 25654 29427 37529 24395\n",
      " 41482 11894  6861 41972 15218 13498  9223 20159 22945 22598  5707 41482\n",
      "  9045 25128  5119 29197 37403 33005 26218 20159 22945 22598 41482   249\n",
      " 15218 26506  1982 28228 22462 28395 42801 41482 14824  5361   884 23998\n",
      " 14402  6211 21992 23364 25119 41482 39643  3172 39692 28263  8897 13376\n",
      " 27654 15140 25538 41482 19861 17103 26218 27400 12401  8192 33750  1155\n",
      " 41153 23071 25119 28263  8897 13376 27654 15140 25538 41482 32244 39143\n",
      "  8144 37020  9045 25128 33525 25678 17578  1132 28263  8897 13376 27654\n",
      " 15140 25538 41482  9102 20496 21760 15412 16829 31478 18858 30419 41482\n",
      "  9906 33029  5350 20038 41972 39175  6910 36951 33676 15711 41482 19350\n",
      " 25427   195 26267 31526 42801 21217 41101 21206 10698 24247 41482 39102\n",
      " 29896 23626 26218 17103 31526 42801 41482  8304 27800  3889 22226 10216\n",
      " 33676 21171 44029 28263  8897 13376 27654 15140 25538 41482 10698 28232\n",
      " 26218  2785 35181 38819 31526 37529 19861 14968 20974 31205 26397 41482\n",
      " 10698 23626 38819  5361 11894 10015 40028 21206 10698 26683 41482  2785\n",
      " 35181 38819 31526 26218 37529 19861 14968 20974 31205 26397 41482 36627\n",
      "   803   803  4927 41517 27682   932 28263  8897 13376 27654 15140 25538\n",
      " 41482 21538 25427   195 26267 31526 42801 21217 41101 21206 10698 24247\n",
      " 41482 10698 37692 39868 12401 39194  7372 43287 17103  7372 24358   714\n",
      " 17266 42801 41482  8304 27800  3889 22226 10216 24358  2785  1649 44029]\n"
     ]
    }
   ],
   "source": [
    "MAX_LENGTH = 300\n",
    "train_X = pad_sequences(maxlen=MAX_LENGTH, sequences=train_X, padding=\"post\")\n",
    "dev_X = pad_sequences(maxlen=MAX_LENGTH, sequences=dev_X, padding=\"post\")\n",
    "\n",
    "print(train_X[1])\n"
   ]
  },
  {
   "cell_type": "markdown",
   "metadata": {},
   "source": [
    "## Definir el modelo y entrenar con LSTM"
   ]
  },
  {
   "cell_type": "markdown",
   "metadata": {},
   "source": [
    "Ahora definimos nuestra red. Veamamos ahora que configuraremos algunos hyperparámetros adicionales en el optimizador, ademas de usar Adam esta vez."
   ]
  },
  {
   "cell_type": "code",
   "execution_count": 117,
   "metadata": {},
   "outputs": [],
   "source": [
    "EMBEDDING_SIZE = 50\n",
    "EPOCHS = 50\n",
    "BATCH_SIZE = 32\n",
    "HIDDEN_LAYER_SIZE = 64\n",
    "DROPOUT = 0.2\n",
    "\n",
    "model = Sequential()\n",
    "model.add(Embedding(len(word_to_index), EMBEDDING_SIZE, input_length=MAX_LENGTH))\n",
    "#model.add(SpatialDropout1D(Dropout(DROPOUT)))\n",
    "model.add(LSTM(HIDDEN_LAYER_SIZE, dropout=DROPOUT, recurrent_dropout=DROPOUT))\n",
    "model.add(Dense(4))\n",
    "model.add(Activation(\"sigmoid\"))\n",
    "\n",
    "adam = optimizers.Adam(lr=0.001, beta_1=0.9, beta_2=0.999, epsilon=None, decay=0.0, amsgrad=False)\n",
    "model.compile(loss=\"categorical_crossentropy\", optimizer=adam, metrics=[\"accuracy\",])"
   ]
  },
  {
   "cell_type": "markdown",
   "metadata": {},
   "source": [
    "Y la entrenamos. Dado que el entrenamiento será largo, vamos a utilizar una opción llamada parada temprana o early stopping. Básicamente lo que hace es parar el entrenamiento cuando no se logre mejorar el costo en un cierto periodo de épocas. Ese periodo de épocas es llamado paciencia (patience)."
   ]
  },
  {
   "cell_type": "code",
   "execution_count": 118,
   "metadata": {},
   "outputs": [
    {
     "name": "stdout",
     "output_type": "stream",
     "text": [
      "Train on 4860 samples, validate on 607 samples\n",
      "Epoch 1/50\n",
      "  32/4860 [..............................] - ETA: 14:26 - loss: 1.3859 - acc: 0.1562"
     ]
    },
    {
     "ename": "KeyboardInterrupt",
     "evalue": "",
     "output_type": "error",
     "traceback": [
      "\u001b[0;31m---------------------------------------------------------------------------\u001b[0m",
      "\u001b[0;31mKeyboardInterrupt\u001b[0m                         Traceback (most recent call last)",
      "\u001b[0;32m<ipython-input-118-dcad9cb01b94>\u001b[0m in \u001b[0;36m<module>\u001b[0;34m\u001b[0m\n\u001b[1;32m      1\u001b[0m \u001b[0mes\u001b[0m \u001b[0;34m=\u001b[0m \u001b[0mEarlyStopping\u001b[0m\u001b[0;34m(\u001b[0m\u001b[0mmonitor\u001b[0m\u001b[0;34m=\u001b[0m\u001b[0;34m'val_loss'\u001b[0m\u001b[0;34m,\u001b[0m \u001b[0mmode\u001b[0m\u001b[0;34m=\u001b[0m\u001b[0;34m'min'\u001b[0m\u001b[0;34m,\u001b[0m \u001b[0mverbose\u001b[0m\u001b[0;34m=\u001b[0m\u001b[0;36m1\u001b[0m\u001b[0;34m,\u001b[0m \u001b[0mpatience\u001b[0m\u001b[0;34m=\u001b[0m\u001b[0;36m7\u001b[0m\u001b[0;34m)\u001b[0m\u001b[0;34m\u001b[0m\u001b[0;34m\u001b[0m\u001b[0m\n\u001b[0;32m----> 2\u001b[0;31m \u001b[0mhistory\u001b[0m \u001b[0;34m=\u001b[0m \u001b[0mmodel\u001b[0m\u001b[0;34m.\u001b[0m\u001b[0mfit\u001b[0m\u001b[0;34m(\u001b[0m\u001b[0mtrain_X\u001b[0m\u001b[0;34m,\u001b[0m \u001b[0mtrain_Y\u001b[0m\u001b[0;34m,\u001b[0m \u001b[0mbatch_size\u001b[0m\u001b[0;34m=\u001b[0m\u001b[0mBATCH_SIZE\u001b[0m\u001b[0;34m,\u001b[0m \u001b[0mepochs\u001b[0m\u001b[0;34m=\u001b[0m\u001b[0mEPOCHS\u001b[0m\u001b[0;34m,\u001b[0m \u001b[0mvalidation_data\u001b[0m\u001b[0;34m=\u001b[0m\u001b[0;34m(\u001b[0m\u001b[0mdev_X\u001b[0m\u001b[0;34m,\u001b[0m \u001b[0mdev_Y\u001b[0m\u001b[0;34m)\u001b[0m\u001b[0;34m,\u001b[0m \u001b[0mcallbacks\u001b[0m\u001b[0;34m=\u001b[0m\u001b[0;34m[\u001b[0m\u001b[0mes\u001b[0m\u001b[0;34m]\u001b[0m\u001b[0;34m)\u001b[0m\u001b[0;34m\u001b[0m\u001b[0;34m\u001b[0m\u001b[0m\n\u001b[0m",
      "\u001b[0;32m~/miniconda3/lib/python3.7/site-packages/tensorflow/python/keras/engine/training.py\u001b[0m in \u001b[0;36mfit\u001b[0;34m(self, x, y, batch_size, epochs, verbose, callbacks, validation_split, validation_data, shuffle, class_weight, sample_weight, initial_epoch, steps_per_epoch, validation_steps, max_queue_size, workers, use_multiprocessing, **kwargs)\u001b[0m\n\u001b[1;32m    878\u001b[0m           \u001b[0minitial_epoch\u001b[0m\u001b[0;34m=\u001b[0m\u001b[0minitial_epoch\u001b[0m\u001b[0;34m,\u001b[0m\u001b[0;34m\u001b[0m\u001b[0;34m\u001b[0m\u001b[0m\n\u001b[1;32m    879\u001b[0m           \u001b[0msteps_per_epoch\u001b[0m\u001b[0;34m=\u001b[0m\u001b[0msteps_per_epoch\u001b[0m\u001b[0;34m,\u001b[0m\u001b[0;34m\u001b[0m\u001b[0;34m\u001b[0m\u001b[0m\n\u001b[0;32m--> 880\u001b[0;31m           validation_steps=validation_steps)\n\u001b[0m\u001b[1;32m    881\u001b[0m \u001b[0;34m\u001b[0m\u001b[0m\n\u001b[1;32m    882\u001b[0m   def evaluate(self,\n",
      "\u001b[0;32m~/miniconda3/lib/python3.7/site-packages/tensorflow/python/keras/engine/training_arrays.py\u001b[0m in \u001b[0;36mmodel_iteration\u001b[0;34m(model, inputs, targets, sample_weights, batch_size, epochs, verbose, callbacks, val_inputs, val_targets, val_sample_weights, shuffle, initial_epoch, steps_per_epoch, validation_steps, mode, validation_in_fit, **kwargs)\u001b[0m\n\u001b[1;32m    327\u001b[0m \u001b[0;34m\u001b[0m\u001b[0m\n\u001b[1;32m    328\u001b[0m         \u001b[0;31m# Get outputs.\u001b[0m\u001b[0;34m\u001b[0m\u001b[0;34m\u001b[0m\u001b[0;34m\u001b[0m\u001b[0m\n\u001b[0;32m--> 329\u001b[0;31m         \u001b[0mbatch_outs\u001b[0m \u001b[0;34m=\u001b[0m \u001b[0mf\u001b[0m\u001b[0;34m(\u001b[0m\u001b[0mins_batch\u001b[0m\u001b[0;34m)\u001b[0m\u001b[0;34m\u001b[0m\u001b[0;34m\u001b[0m\u001b[0m\n\u001b[0m\u001b[1;32m    330\u001b[0m         \u001b[0;32mif\u001b[0m \u001b[0;32mnot\u001b[0m \u001b[0misinstance\u001b[0m\u001b[0;34m(\u001b[0m\u001b[0mbatch_outs\u001b[0m\u001b[0;34m,\u001b[0m \u001b[0mlist\u001b[0m\u001b[0;34m)\u001b[0m\u001b[0;34m:\u001b[0m\u001b[0;34m\u001b[0m\u001b[0;34m\u001b[0m\u001b[0m\n\u001b[1;32m    331\u001b[0m           \u001b[0mbatch_outs\u001b[0m \u001b[0;34m=\u001b[0m \u001b[0;34m[\u001b[0m\u001b[0mbatch_outs\u001b[0m\u001b[0;34m]\u001b[0m\u001b[0;34m\u001b[0m\u001b[0;34m\u001b[0m\u001b[0m\n",
      "\u001b[0;32m~/miniconda3/lib/python3.7/site-packages/tensorflow/python/keras/backend.py\u001b[0m in \u001b[0;36m__call__\u001b[0;34m(self, inputs)\u001b[0m\n\u001b[1;32m   3074\u001b[0m \u001b[0;34m\u001b[0m\u001b[0m\n\u001b[1;32m   3075\u001b[0m     fetched = self._callable_fn(*array_vals,\n\u001b[0;32m-> 3076\u001b[0;31m                                 run_metadata=self.run_metadata)\n\u001b[0m\u001b[1;32m   3077\u001b[0m     \u001b[0mself\u001b[0m\u001b[0;34m.\u001b[0m\u001b[0m_call_fetch_callbacks\u001b[0m\u001b[0;34m(\u001b[0m\u001b[0mfetched\u001b[0m\u001b[0;34m[\u001b[0m\u001b[0;34m-\u001b[0m\u001b[0mlen\u001b[0m\u001b[0;34m(\u001b[0m\u001b[0mself\u001b[0m\u001b[0;34m.\u001b[0m\u001b[0m_fetches\u001b[0m\u001b[0;34m)\u001b[0m\u001b[0;34m:\u001b[0m\u001b[0;34m]\u001b[0m\u001b[0;34m)\u001b[0m\u001b[0;34m\u001b[0m\u001b[0;34m\u001b[0m\u001b[0m\n\u001b[1;32m   3078\u001b[0m     return nest.pack_sequence_as(self._outputs_structure,\n",
      "\u001b[0;32m~/miniconda3/lib/python3.7/site-packages/tensorflow/python/client/session.py\u001b[0m in \u001b[0;36m__call__\u001b[0;34m(self, *args, **kwargs)\u001b[0m\n\u001b[1;32m   1437\u001b[0m           ret = tf_session.TF_SessionRunCallable(\n\u001b[1;32m   1438\u001b[0m               \u001b[0mself\u001b[0m\u001b[0;34m.\u001b[0m\u001b[0m_session\u001b[0m\u001b[0;34m.\u001b[0m\u001b[0m_session\u001b[0m\u001b[0;34m,\u001b[0m \u001b[0mself\u001b[0m\u001b[0;34m.\u001b[0m\u001b[0m_handle\u001b[0m\u001b[0;34m,\u001b[0m \u001b[0margs\u001b[0m\u001b[0;34m,\u001b[0m \u001b[0mstatus\u001b[0m\u001b[0;34m,\u001b[0m\u001b[0;34m\u001b[0m\u001b[0;34m\u001b[0m\u001b[0m\n\u001b[0;32m-> 1439\u001b[0;31m               run_metadata_ptr)\n\u001b[0m\u001b[1;32m   1440\u001b[0m         \u001b[0;32mif\u001b[0m \u001b[0mrun_metadata\u001b[0m\u001b[0;34m:\u001b[0m\u001b[0;34m\u001b[0m\u001b[0;34m\u001b[0m\u001b[0m\n\u001b[1;32m   1441\u001b[0m           \u001b[0mproto_data\u001b[0m \u001b[0;34m=\u001b[0m \u001b[0mtf_session\u001b[0m\u001b[0;34m.\u001b[0m\u001b[0mTF_GetBuffer\u001b[0m\u001b[0;34m(\u001b[0m\u001b[0mrun_metadata_ptr\u001b[0m\u001b[0;34m)\u001b[0m\u001b[0;34m\u001b[0m\u001b[0;34m\u001b[0m\u001b[0m\n",
      "\u001b[0;31mKeyboardInterrupt\u001b[0m: "
     ]
    }
   ],
   "source": [
    "es = EarlyStopping(monitor='val_loss', mode='min', verbose=1, patience=7)\n",
    "history = model.fit(train_X, train_Y, batch_size=BATCH_SIZE, epochs=EPOCHS, validation_data=(dev_X, dev_Y), callbacks=[es])"
   ]
  },
  {
   "cell_type": "markdown",
   "metadata": {},
   "source": [
    "## Resultados"
   ]
  },
  {
   "cell_type": "markdown",
   "metadata": {},
   "source": [
    "Ahora veamos el comportamiento del entrenamiento a travéz de las épocas."
   ]
  },
  {
   "cell_type": "code",
   "execution_count": 105,
   "metadata": {},
   "outputs": [
    {
     "data": {
      "image/png": "[encoded data removed]",
      "text/plain": [
       "<Figure size 864x864 with 1 Axes>"
      ]
     },
     "metadata": {
      "needs_background": "light"
     },
     "output_type": "display_data"
    }
   ],
   "source": [
    "hist = pd.DataFrame(history.history)\n",
    "plt.figure(figsize=(12,12))\n",
    "plt.plot(hist[\"acc\"])\n",
    "plt.plot(hist[\"val_acc\"])\n",
    "plt.show()"
   ]
  },
  {
   "cell_type": "markdown",
   "metadata": {},
   "source": [
    "Y guardamos el modelo"
   ]
  },
  {
   "cell_type": "code",
   "execution_count": null,
   "metadata": {},
   "outputs": [],
   "source": [
    "model.save(\"Models/restaurant_classification.h5\")"
   ]
  },
  {
   "cell_type": "markdown",
   "metadata": {},
   "source": [
    "## Ejercicio"
   ]
  },
  {
   "cell_type": "markdown",
   "metadata": {},
   "source": [
    "Hemos visto cómo usar un LSTM para entrenar un modelo que nos permite clasificar un texto. Sin embargo, el set de datos con el que contamos incluye información complementaria: cómo tipo de restaurante y localización del mismo. Es hora de integrar estos datos para mejorar el rendimiento del modelo. \n",
    "\n",
    "* ¿Cuál sería la mejor forma de integrar estos datos al modelo?\n",
    "* Implemente una solución y demuestre que su modelo mejora al LSTM simple.\n",
    "* ¿Tiene alguna otra idea de cómo mejorar el rendimiento del modelo?"
   ]
  },
  {
   "cell_type": "code",
   "execution_count": null,
   "metadata": {},
   "outputs": [],
   "source": []
  }
 ],
 "metadata": {
  "kernelspec": {
   "display_name": "Python 3",
   "language": "python",
   "name": "python3"
  },
  "language_info": {
   "codemirror_mode": {
    "name": "ipython",
    "version": 3
   },
   "file_extension": ".py",
   "mimetype": "text/x-python",
   "name": "python",
   "nbconvert_exporter": "python",
   "pygments_lexer": "ipython3",
   "version": "3.7.3"
  }
 },
 "nbformat": 4,
 "nbformat_minor": 2
}
